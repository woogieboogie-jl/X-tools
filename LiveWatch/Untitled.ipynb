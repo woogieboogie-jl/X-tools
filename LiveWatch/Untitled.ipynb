{
 "cells": [
  {
   "cell_type": "code",
   "execution_count": 3,
   "id": "10d5a178",
   "metadata": {},
   "outputs": [],
   "source": [
    "import os\n",
    "from openpyxl import load_workbook"
   ]
  },
  {
   "cell_type": "code",
   "execution_count": 24,
   "id": "68f56229",
   "metadata": {},
   "outputs": [
    {
     "data": {
      "text/plain": [
       "[(<Cell 'Sheet1'.A1>,\n",
       "  <Cell 'Sheet1'.A2>,\n",
       "  <Cell 'Sheet1'.A3>,\n",
       "  <Cell 'Sheet1'.A4>,\n",
       "  <Cell 'Sheet1'.A5>,\n",
       "  <Cell 'Sheet1'.A6>,\n",
       "  <Cell 'Sheet1'.A7>),\n",
       " (<Cell 'Sheet1'.B1>,\n",
       "  <Cell 'Sheet1'.B2>,\n",
       "  <Cell 'Sheet1'.B3>,\n",
       "  <Cell 'Sheet1'.B4>,\n",
       "  <Cell 'Sheet1'.B5>,\n",
       "  <Cell 'Sheet1'.B6>,\n",
       "  <Cell 'Sheet1'.B7>)]"
      ]
     },
     "execution_count": 24,
     "metadata": {},
     "output_type": "execute_result"
    }
   ],
   "source": [
    "ws = load_workbook(filename='xangle_template_unlockschedule.xlsx')['Sheet1']\n",
    "rows = [row for row in ws.iter_rows()]\n",
    "cols = [col for col in ws.iter_cols()]\n",
    "cols"
   ]
  },
  {
   "cell_type": "code",
   "execution_count": null,
   "id": "e73c3094",
   "metadata": {},
   "outputs": [],
   "source": []
  }
 ],
 "metadata": {
  "kernelspec": {
   "display_name": "Python 3 (ipykernel)",
   "language": "python",
   "name": "python3"
  },
  "language_info": {
   "codemirror_mode": {
    "name": "ipython",
    "version": 3
   },
   "file_extension": ".py",
   "mimetype": "text/x-python",
   "name": "python",
   "nbconvert_exporter": "python",
   "pygments_lexer": "ipython3",
   "version": "3.9.6"
  }
 },
 "nbformat": 4,
 "nbformat_minor": 5
}
