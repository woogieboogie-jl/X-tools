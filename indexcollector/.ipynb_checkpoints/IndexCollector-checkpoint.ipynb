{
 "cells": [
  {
   "cell_type": "code",
   "execution_count": 95,
   "id": "4f4a2626",
   "metadata": {},
   "outputs": [],
   "source": [
    "import requests\n",
    "import pandas as pd\n",
    "from datetime import datetime\n",
    "import csv"
   ]
  },
  {
   "cell_type": "code",
   "execution_count": 81,
   "id": "d4f77e28",
   "metadata": {},
   "outputs": [],
   "source": [
    "nl = \"\\n    -\"\n",
    "periods_list = [\n",
    "    'all',\n",
    "    '1y',\n",
    "    '3m',\n",
    "    '1m',\n",
    "    '7d',\n",
    "    '24h'\n",
    "]\n",
    "indexes_list = [\n",
    "    \"X30\",\n",
    "    \"XMN\",\n",
    "    \"XKC\",\n",
    "    \"XGM\",\n",
    "    \"XNFT\",\n",
    "    \"XDEFI\",\n",
    "    \"XDEX\",\n",
    "    \"XLB\",\n",
    "    \"XDRV\",\n",
    "    \"XAM\"\n",
    "]"
   ]
  },
  {
   "cell_type": "code",
   "execution_count": 82,
   "id": "c032923f",
   "metadata": {},
   "outputs": [
    {
     "name": "stdout",
     "output_type": "stream",
     "text": [
      "1. For how long would you like to collect index data?\n",
      "    -all\n",
      "    -1y\n",
      "    -3m\n",
      "    -1m\n",
      "    -7d\n",
      "    -24h\n",
      "7d\n",
      "2. From which indexes do you wish to collect?\n",
      "    -X30\n",
      "    -XMN\n",
      "    -XKC\n",
      "    -XGM\n",
      "    -XNFT\n",
      "    -XDEFI\n",
      "    -XDEX\n",
      "    -XLB\n",
      "    -XDRV\n",
      "    -XAM\n",
      "xgm\n"
     ]
    }
   ],
   "source": [
    "while True:\n",
    "    period = input(f\"1. For how long would you like to collect index data?\\n    -{nl.join(periods_list)}\\n\")\n",
    "    if period in periods_list:\n",
    "        break\n",
    "    else:\n",
    "        print(f\"wrong response, choose from the following periods list: {','.join(periods_list)}\")\n",
    "        \n",
    "while True:\n",
    "    index = input(f\"2. From which indexes do you wish to collect?\\n    -{nl.join(indexes_list)}\\n\").upper()\n",
    "    if index in indexes_list:\n",
    "        break\n",
    "    else:\n",
    "        print(f\"wrong response, choose from the following index list: {','.join(indexes_list)}\")"
   ]
  },
  {
   "cell_type": "code",
   "execution_count": 109,
   "id": "6095a77f",
   "metadata": {
    "scrolled": true
   },
   "outputs": [
    {
     "name": "stdout",
     "output_type": "stream",
     "text": [
      "2022-12-11 22:00:52.952549\n"
     ]
    }
   ],
   "source": [
    "url = f\"https://price.xangle.io/xangle_index/index-values?index_slug={index}&period={period}&lang=en\"\n",
    "filters_list = [\"timestamp\", \"index_value\"]\n",
    "\n",
    "data = requests.get(url).json()[\"indices\"]\n",
    "now = datetime.now()\n",
    "df = pd.DataFrame.from_dict(data).filter(filters_list)\n",
    "index_csv = df.to_csv()\n",
    "filename = f\"{index}_{period}_{now.strftime('%Y-%m-%d(%H:%M:%S)')}.csv\"\n",
    "df.to_csv(filename, sep=',', na_rep='NaN')"
   ]
  },
  {
   "cell_type": "code",
   "execution_count": null,
   "id": "a373264f",
   "metadata": {},
   "outputs": [],
   "source": []
  }
 ],
 "metadata": {
  "kernelspec": {
   "display_name": "Python 3 (ipykernel)",
   "language": "python",
   "name": "python3"
  },
  "language_info": {
   "codemirror_mode": {
    "name": "ipython",
    "version": 3
   },
   "file_extension": ".py",
   "mimetype": "text/x-python",
   "name": "python",
   "nbconvert_exporter": "python",
   "pygments_lexer": "ipython3",
   "version": "3.10.8"
  }
 },
 "nbformat": 4,
 "nbformat_minor": 5
}
