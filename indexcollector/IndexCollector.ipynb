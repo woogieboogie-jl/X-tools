{
 "cells": [
  {
   "cell_type": "code",
   "execution_count": 95,
   "id": "6b03e4c4",
   "metadata": {},
   "outputs": [],
   "source": [
    "import requests\n",
    "import pandas as pd\n",
    "from datetime import datetime\n",
    "import csv"
   ]
  },
  {
   "cell_type": "code",
   "execution_count": 115,
   "id": "ca73e382",
   "metadata": {},
   "outputs": [],
   "source": [
    "periods_list = [\n",
    "    'all',\n",
    "    '1y',\n",
    "    '3m',\n",
    "    '1m',\n",
    "    '7d',\n",
    "    '24h'\n",
    "]\n",
    "indexes_list = [\n",
    "    \"X30\",\n",
    "    \"XMN\",\n",
    "    \"XKC\",\n",
    "    \"XGM\",\n",
    "    \"XNFT\",\n",
    "    \"XDEFI\",\n",
    "    \"XDEX\",\n",
    "    \"XLB\",\n",
    "    \"XDRV\",\n",
    "    \"XAM\"\n",
    "]\n",
    "indexes_choosen = []"
   ]
  },
  {
   "cell_type": "code",
   "execution_count": 116,
   "id": "5f3a5eb8",
   "metadata": {},
   "outputs": [
    {
     "name": "stdout",
     "output_type": "stream",
     "text": [
      "For how long would you like to collect index data?\n",
      "[all,1y,3m,1m,7d,24h]\n",
      "all\n",
      "From which indexes do you wish to collect?\n",
      "[X30,XMN,XKC,XGM,XNFT,XDEFI,XDEX,XLB,XDRV,XAM]\n",
      "x30\n",
      "indexes choosen: ['X30']\n",
      "do you wish to export? [y/n]\n",
      "n\n",
      "From which indexes do you wish to collect?\n",
      "[XMN,XKC,XGM,XNFT,XDEFI,XDEX,XLB,XDRV,XAM]\n",
      "xmn\n",
      "indexes choosen: ['X30,XMN']\n",
      "do you wish to export? [y/n]\n",
      "y\n"
     ]
    }
   ],
   "source": [
    "while True:\n",
    "    period = input(f\"For how long would you like to collect index data?\\n[{','.join(periods_list)}]\\n\")\n",
    "    if period in periods_list:\n",
    "        break\n",
    "    else:\n",
    "        print(f\"wrong response, choose from the following periods list: {','.join(periods_list)}\")\n",
    "        \n",
    "while True:\n",
    "    while True:\n",
    "        index = input(f\"From which indexes do you wish to collect?\\n[{','.join(indexes_list)}]\\n\").upper()\n",
    "        if index in indexes_list:\n",
    "            break\n",
    "        else:\n",
    "            print(f\"wrong response, choose from the following index list: {','.join(indexes_list)}\")\n",
    "    indexes_choosen.append(index)\n",
    "    indexes_list.remove(index)\n",
    "    next = input(f\"indexes choosen: {[','.join(indexes_choosen)]}\\ndo you wish to export? [y/n]\\n\")\n",
    "    if next == \"y\":\n",
    "        break\n",
    "    else:\n",
    "        pass"
   ]
  },
  {
   "cell_type": "code",
   "execution_count": 117,
   "id": "ddf9abab",
   "metadata": {
    "scrolled": true
   },
   "outputs": [],
   "source": [
    "url = f\"https://price.xangle.io/xangle_index/index-values?index_slug={index}&period={period}&lang=en\"\n",
    "filters_list = [\"timestamp\", \"index_value\"]\n",
    "\n",
    "data = requests.get(url).json()[\"indices\"]\n",
    "now = datetime.now()\n",
    "df = pd.DataFrame.from_dict(data).filter(filters_list)\n",
    "index_csv = df.to_csv()\n",
    "filename = f\"{index}_{period}_{now.strftime('%Y-%m-%d(%H:%M:%S)')}.csv\"\n",
    "df.to_csv(filename, sep=',', na_rep='NaN')"
   ]
  },
  {
   "cell_type": "code",
   "execution_count": 136,
   "id": "b4e7231a",
   "metadata": {},
   "outputs": [
    {
     "name": "stdout",
     "output_type": "stream",
     "text": [
      "               timestamp  index_value\n",
      "0    2022-12-10T15:55:00   108.517634\n",
      "1    2022-12-10T16:00:00   108.488907\n",
      "2    2022-12-10T16:05:00   108.556992\n",
      "3    2022-12-10T16:10:00   108.568370\n",
      "4    2022-12-10T16:15:00   108.488670\n",
      "..                   ...          ...\n",
      "284  2022-12-11T15:35:00   107.889482\n",
      "285  2022-12-11T15:40:00   107.889483\n",
      "286  2022-12-11T15:45:00   107.874170\n",
      "287  2022-12-11T15:50:00   107.852038\n",
      "288  2022-12-11T15:53:00   107.846165\n",
      "\n",
      "[289 rows x 2 columns]\n",
      "               timestamp  index_value\n",
      "0    2022-12-10T15:55:00   747.414886\n",
      "1    2022-12-10T16:00:00   747.640000\n",
      "2    2022-12-10T16:05:00   748.282026\n",
      "3    2022-12-10T16:10:00   748.089256\n",
      "4    2022-12-10T16:15:00   747.876221\n",
      "..                   ...          ...\n",
      "284  2022-12-11T15:35:00   745.859295\n",
      "285  2022-12-11T15:40:00   745.675820\n",
      "286  2022-12-11T15:45:00   745.555777\n",
      "287  2022-12-11T15:50:00   745.428892\n",
      "288  2022-12-11T15:53:00   745.480089\n",
      "\n",
      "[289 rows x 2 columns]\n",
      "               timestamp\n",
      "0    2022-12-10T15:55:00\n",
      "1    2022-12-10T16:00:00\n",
      "2    2022-12-10T16:05:00\n",
      "3    2022-12-10T16:10:00\n",
      "4    2022-12-10T16:15:00\n",
      "..                   ...\n",
      "284  2022-12-11T15:35:00\n",
      "285  2022-12-11T15:40:00\n",
      "286  2022-12-11T15:45:00\n",
      "287  2022-12-11T15:50:00\n",
      "288  2022-12-11T15:53:00\n",
      "\n",
      "[289 rows x 1 columns]\n"
     ]
    }
   ],
   "source": [
    "url_1 = \"https://price.xangle.io/xangle_index/index-values?index_slug=XDEFI&period=24h&lang=en\"\n",
    "url_2 = \"https://price.xangle.io/xangle_index/index-values?index_slug=XMN&period=24h&lang=en\"\n",
    "\n",
    "filters_list = [\"timestamp\", \"index_value\"]\n",
    "\n",
    "data = requests.get(url_1).json()[\"indices\"]\n",
    "now = datetime.now()\n",
    "df_1 = pd.DataFrame.from_dict(data).filter(filters_list)\n",
    "print(df_1)\n",
    "\n",
    "data = requests.get(url_2).json()[\"indices\"]\n",
    "now = datetime.now()\n",
    "df_2 = pd.DataFrame.from_dict(data).filter(filters_list)\n",
    "print(df_2)\n",
    "\n",
    "df_1 = df_1.assign(XMN=df_2[\"index_value\"])\n",
    "frame = pd.DataFrame(df_1[\"timestamp\"])\n",
    "print(frame)\n"
   ]
  },
  {
   "cell_type": "code",
   "execution_count": null,
   "id": "efc5af07",
   "metadata": {},
   "outputs": [],
   "source": []
  }
 ],
 "metadata": {
  "kernelspec": {
   "display_name": "Python 3 (ipykernel)",
   "language": "python",
   "name": "python3"
  },
  "language_info": {
   "codemirror_mode": {
    "name": "ipython",
    "version": 3
   },
   "file_extension": ".py",
   "mimetype": "text/x-python",
   "name": "python",
   "nbconvert_exporter": "python",
   "pygments_lexer": "ipython3",
   "version": "3.10.8"
  }
 },
 "nbformat": 4,
 "nbformat_minor": 5
}
