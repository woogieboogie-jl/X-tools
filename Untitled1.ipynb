{
 "cells": [
  {
   "cell_type": "code",
   "execution_count": 6,
   "id": "14490f28",
   "metadata": {},
   "outputs": [],
   "source": [
    "import os\n",
    "import openpyxl\n"
   ]
  },
  {
   "cell_type": "code",
   "execution_count": 14,
   "id": "305be102",
   "metadata": {},
   "outputs": [
    {
     "name": "stdout",
     "output_type": "stream",
     "text": [
      "<class 'datetime.datetime'>\n"
     ]
    }
   ],
   "source": [
    "filepath = 'LiveWatch/input_csvs/template/xangle_template_unlockschedule.xlsx'\n",
    "wb = openpyxl.load_workbook(filepath)\n",
    "ws = wb['Sheet1']\n",
    "\n",
    "# Select a cell to check its data type\n",
    "cell = ws['A2']\n",
    "\n",
    "# Get the data type of the value within the cell\n",
    "data_type = type(cell.value)\n",
    "\n",
    "# Print the data type\n",
    "print(data_type)"
   ]
  },
  {
   "cell_type": "code",
   "execution_count": null,
   "id": "6f344350",
   "metadata": {},
   "outputs": [],
   "source": []
  }
 ],
 "metadata": {
  "kernelspec": {
   "display_name": "Python 3 (ipykernel)",
   "language": "python",
   "name": "python3"
  },
  "language_info": {
   "codemirror_mode": {
    "name": "ipython",
    "version": 3
   },
   "file_extension": ".py",
   "mimetype": "text/x-python",
   "name": "python",
   "nbconvert_exporter": "python",
   "pygments_lexer": "ipython3",
   "version": "3.9.6"
  }
 },
 "nbformat": 4,
 "nbformat_minor": 5
}
