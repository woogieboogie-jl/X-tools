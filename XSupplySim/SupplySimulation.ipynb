{
 "cells": [
  {
   "cell_type": "code",
   "execution_count": null,
   "id": "e933f323",
   "metadata": {},
   "outputs": [],
   "source": [
    "# Import required libraries\n",
    "import pandas as pd\n",
    "import numpy as np\n",
    "from matplotlib import pyplot as plt\n",
    "\n",
    "# Load Polygon (Matic) price data\n",
    "df_matic_price = pd.read_csv('/mnt/data/matic-usd-max.csv', parse_dates=['snapped_at'], index_col='snapped_at')\n",
    "\n",
    "# Load Top 30 Crypto Index data\n",
    "df_X30 = pd.read_csv('/mnt/data/X30.csv', parse_dates=['timestamp'], index_col='timestamp')\n",
    "df_X30 = df_X30.resample('D').last()  # Resample the data to get the last value for each day\n",
    "\n",
    "# Load unlock schedule\n",
    "df_token_unlock = pd.read_excel('/mnt/data/chartData_Polygon_matic-network.xlsx', parse_dates=['name'], index_col='name')\n",
    "df_token_unlock.index.names = ['date']  # Rename the index to 'date'\n",
    "df_token_unlock = df_token_unlock.resample('D').last().fillna(0)  # Resample the data to get the last value for each day\n",
    "\n",
    "# Normalize the Matic price data using the Top 30 crypto index\n",
    "df_matic_price_normalized = df_matic_price['price'] / df_X30['X30']\n",
    "\n",
    "# Calculate the price change\n",
    "df_matic_price_normalized = df_matic_price_normalized.pct_change()\n",
    "\n",
    "# Calculate unlocking amount\n",
    "df_unlocking = df_token_unlock.sum(axis=1).resample('D').sum()  # Sum across rows and then resample to get the total unlocking amount per day\n",
    "\n",
    "# Resample the data\n",
    "df_monthly = df_unlocking.resample('1M').mean()  # Resample the data to get the average value for each month\n",
    "df_quarterly = df_unlocking.resample('3M').mean()  # Resample the data to get the average value for each quarter\n",
    "df_biannually = df_unlocking.resample('6M').mean()  # Resample the data to get the average value for each half-year\n",
    "df_annually = df_unlocking.resample('1Y').mean()  # Resample the data to get the average value for each year\n",
    "\n",
    "# Calculate the correlation\n",
    "correlation_monthly = df_monthly.corr(df_matic_price_normalized.resample('1M').mean())  # Calculate the correlation for monthly data\n",
    "correlation_quarterly = df_quarterly.corr(df_matic_price_normalized.resample('3M').mean())  # Calculate the correlation for quarterly data\n",
    "correlation_biannually = df_biannually.corr(df_matic_price_normalized.resample('6M').mean())  # Calculate the correlation for biannual data\n",
    "correlation_annually = df_annually.corr(df_matic_price_normalized.resample('1Y').mean())  # Calculate the correlation for annual data\n"
   ]
  }
 ],
 "metadata": {
  "kernelspec": {
   "display_name": "Python 3 (ipykernel)",
   "language": "python",
   "name": "python3"
  },
  "language_info": {
   "codemirror_mode": {
    "name": "ipython",
    "version": 3
   },
   "file_extension": ".py",
   "mimetype": "text/x-python",
   "name": "python",
   "nbconvert_exporter": "python",
   "pygments_lexer": "ipython3",
   "version": "3.11.4"
  }
 },
 "nbformat": 4,
 "nbformat_minor": 5
}
